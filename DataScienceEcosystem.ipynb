{
 "cells": [
  {
   "cell_type": "markdown",
   "id": "3daecb30-d9f3-4fa2-a56b-ecb93fef5304",
   "metadata": {},
   "source": [
    "# Data Science Tools and Ecosystem"
   ]
  },
  {
   "cell_type": "code",
   "execution_count": 2,
   "id": "1701d179-3dfc-4e19-b52b-ccf871cd25f8",
   "metadata": {},
   "outputs": [],
   "source": [
    "#In this notebook, Data Science Tools and Ecosystem are summarized.\n"
   ]
  },
  {
   "cell_type": "markdown",
   "id": "8ffea3d4-372e-4eb8-a2f9-0d2eea06dcea",
   "metadata": {},
   "source": [
    "**Objectives**\n",
    "- Create Heading \"Data Science Tools and Ecosystem\n",
    "- List Popular languages that Data Scientists use\n",
    "- List commonly used Library \n",
    "- Create a Table\n"
   ]
  },
  {
   "cell_type": "markdown",
   "id": "aad17b3c-f764-4a89-9704-636cc370b5e9",
   "metadata": {},
   "source": [
    "#Some of the popular languages that Data Scientists use are:\n",
    "1. SQL\n",
    "2. Python\n",
    "3. R\n",
    "4. Java\n"
   ]
  },
  {
   "cell_type": "markdown",
   "id": "8a082a58-e1fc-4f05-8df6-b1d5824f9eb2",
   "metadata": {},
   "source": [
    "#Some of the commonly used libraries used by Data Scientists include:\n",
    "1. Pandas\n",
    "2. Numpy\n",
    "3. Matplotlib\n",
    "4. Tensorflow"
   ]
  },
  {
   "cell_type": "markdown",
   "id": "255cac11-1da4-47a3-8990-4f9cf8dc33f4",
   "metadata": {},
   "source": [
    "|Data Science Tools |\n",
    "| -------------| \n",
    "| Jupyter Notebooks |\n",
    "| RStudio |\n",
    "| Apache Airflow |\n"
   ]
  },
  {
   "cell_type": "markdown",
   "id": "9c5e5553-d55f-4bfd-9a8e-147b2c8effa3",
   "metadata": {},
   "source": [
    "### Below are a few examples of evaluating arithmetic expressions in Python"
   ]
  },
  {
   "cell_type": "code",
   "execution_count": 36,
   "id": "707494e5-9bdb-4d26-b630-e3effd1ed919",
   "metadata": {},
   "outputs": [
    {
     "data": {
      "text/plain": [
       "17"
      ]
     },
     "execution_count": 36,
     "metadata": {},
     "output_type": "execute_result"
    }
   ],
   "source": [
    "(3*4)+5"
   ]
  },
  {
   "cell_type": "code",
   "execution_count": 37,
   "id": "e6becedb-97d3-41b7-bcdf-5e057d799a7d",
   "metadata": {},
   "outputs": [
    {
     "data": {
      "text/plain": [
       "3.3333333333333335"
      ]
     },
     "execution_count": 37,
     "metadata": {},
     "output_type": "execute_result"
    }
   ],
   "source": [
    "#This will convert 200 minutes to hours by diving by 60\n",
    "minutes=200\n",
    "hours = \"minutes_to_hours(minutes)\"\n",
    "200 / 60\n"
   ]
  },
  {
   "cell_type": "markdown",
   "id": "cabdfe6d-3c2f-4998-9aac-5a9765799fde",
   "metadata": {},
   "source": [
    "## Author\n",
    "Fraser McAllister"
   ]
  },
  {
   "cell_type": "code",
   "execution_count": null,
   "id": "cf18561c-f36b-4968-860b-4bbe35c3d6b7",
   "metadata": {},
   "outputs": [],
   "source": []
  }
 ],
 "metadata": {
  "kernelspec": {
   "display_name": "anaconda-panel-2023.05-py310",
   "language": "python",
   "name": "conda-env-anaconda-panel-2023.05-py310-py"
  },
  "language_info": {
   "codemirror_mode": {
    "name": "ipython",
    "version": 3
   },
   "file_extension": ".py",
   "mimetype": "text/x-python",
   "name": "python",
   "nbconvert_exporter": "python",
   "pygments_lexer": "ipython3",
   "version": "3.11.5"
  }
 },
 "nbformat": 4,
 "nbformat_minor": 5
}
